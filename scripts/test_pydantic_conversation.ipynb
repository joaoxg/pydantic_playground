{
 "cells": [
  {
   "cell_type": "markdown",
   "id": "fc428eac-c285-4120-9f04-0db6490573e1",
   "metadata": {},
   "source": [
    "# Test Pydantic Conversation"
   ]
  },
  {
   "cell_type": "markdown",
   "id": "70da1e3a-80dd-4081-ba2c-e0ac7182c1d3",
   "metadata": {},
   "source": [
    "In this script we test the usage of the Python library Pydantic in order to model conversation data. Example provided by @ArturS."
   ]
  },
  {
   "cell_type": "markdown",
   "id": "8e2ea9d4-8ae2-45f1-a1bd-1305b66d1c0b",
   "metadata": {
    "tags": []
   },
   "source": [
    "### 1. Import Python libraries"
   ]
  },
  {
   "cell_type": "code",
   "execution_count": 14,
   "id": "c1941836-b0d6-46b8-a512-970ddbfc05eb",
   "metadata": {},
   "outputs": [],
   "source": [
    "from pydantic import BaseModel, ValidationError, Field\n",
    "from typing import List, Optional, Union"
   ]
  },
  {
   "cell_type": "markdown",
   "id": "49f5f267-4dc9-4d98-b0d8-e3e603713d7e",
   "metadata": {},
   "source": [
    "### 2. Define Pydantic classes"
   ]
  },
  {
   "cell_type": "code",
   "execution_count": 15,
   "id": "46a8265f-2f0d-4ead-9efe-1bdc139ca4b0",
   "metadata": {
    "tags": []
   },
   "outputs": [],
   "source": [
    "# Message keeps record of:\n",
    "#     1. speaker's name\n",
    "#     2. text message\n",
    "#     3. time the message was sent."
   ]
  },
  {
   "cell_type": "code",
   "execution_count": 16,
   "id": "3aaecfac-5122-41cd-8044-8a142f08e0fb",
   "metadata": {
    "tags": []
   },
   "outputs": [],
   "source": [
    "class Message(BaseModel):\n",
    "    speaker: str\n",
    "    text: str\n",
    "    timestamp: Optional[str] = None  # ISO format"
   ]
  },
  {
   "cell_type": "code",
   "execution_count": 17,
   "id": "e2d31ec5-b919-4100-b40f-fc7107b2b669",
   "metadata": {
    "tags": []
   },
   "outputs": [],
   "source": [
    "# ConversationAnnotation is employed when a conversation is started and keeps record of:\n",
    "#     1. label - single word that generally describes the message starting the conversation\n",
    "#     2. description - sentence(s) with more detailed description of the message content\n",
    "#     3. additional_info"
   ]
  },
  {
   "cell_type": "code",
   "execution_count": 18,
   "id": "000b287e-4fb5-45b5-9f8f-71fdfe012126",
   "metadata": {
    "tags": []
   },
   "outputs": [],
   "source": [
    "class ConversationAnnotation(BaseModel):\n",
    "    label: str\n",
    "    description: Optional[str] = None\n",
    "    additional_info: Optional[dict] = None"
   ]
  },
  {
   "cell_type": "code",
   "execution_count": 19,
   "id": "9a306a9f-5519-4520-ada1-06d3f20667bd",
   "metadata": {
    "tags": []
   },
   "outputs": [],
   "source": [
    "# MessageAnnotation is employed when a message is sent in response/in the sequence of a previous message opening a conversation. It keeps record of:\n",
    "#     1. message_index - Index of the message in the conversation\n",
    "#     2. label - single word that generally describes the message\n",
    "#     3. description - sentence(s) with more detailed description of the message content\n",
    "#     4. additional_info"
   ]
  },
  {
   "cell_type": "code",
   "execution_count": 20,
   "id": "b1e7b3fc-2f3e-4521-a35c-6446eb08feb4",
   "metadata": {
    "tags": []
   },
   "outputs": [],
   "source": [
    "class MessageAnnotation(BaseModel):\n",
    "    message_index: int\n",
    "    label: str\n",
    "    description: Optional[str] = None\n",
    "    additional_info: Optional[dict] = None"
   ]
  },
  {
   "cell_type": "code",
   "execution_count": 21,
   "id": "d22abc75-878f-4eb6-8c09-21a199405cc6",
   "metadata": {
    "tags": []
   },
   "outputs": [],
   "source": [
    "# ConversationScore evaluates the flow and (eventual) outcome of the conversation. It keeps record of:\n",
    "#     1. metric - label of metric used to score conversation\n",
    "#     2. value - metric value\n",
    "#     3. details - Pthon dictionary providing context to the metric value, e.g. reason for the resulting score"
   ]
  },
  {
   "cell_type": "code",
   "execution_count": 22,
   "id": "f591a8e9-cd3b-4e6c-aba1-b6091806e659",
   "metadata": {
    "tags": []
   },
   "outputs": [],
   "source": [
    "class ConversationScore(BaseModel):\n",
    "    metric: str\n",
    "    value: Union[float, int]\n",
    "    details: Optional[dict] = None"
   ]
  },
  {
   "cell_type": "code",
   "execution_count": 23,
   "id": "c2318d6f-e455-4c0a-85da-2ebb2af7e95e",
   "metadata": {
    "tags": []
   },
   "outputs": [],
   "source": [
    "# ConversationData stores all the data modeled according to the models previously defined in this section and respective metadata."
   ]
  },
  {
   "cell_type": "code",
   "execution_count": 24,
   "id": "fbafad6f-9057-4d4a-95bc-10e1faa8bc9d",
   "metadata": {
    "tags": []
   },
   "outputs": [],
   "source": [
    "class ConversationData(BaseModel):\n",
    "    messages: List[Message] = Field(..., min_items=1)\n",
    "    conversation_annotations: Optional[List[ConversationAnnotation]] = None\n",
    "    message_annotations: Optional[List[MessageAnnotation]] = None\n",
    "    scores: Optional[List[ConversationScore]] = None\n",
    "    metadata: Optional[dict] = None\n"
   ]
  },
  {
   "cell_type": "markdown",
   "id": "9214380b-ab26-436a-9079-243dde042657",
   "metadata": {
    "tags": []
   },
   "source": [
    "### 3. Example Usage"
   ]
  },
  {
   "cell_type": "code",
   "execution_count": 27,
   "id": "3f96185e-c4ae-4bd5-879f-7d2b89a85db9",
   "metadata": {
    "tags": []
   },
   "outputs": [
    {
     "name": "stdout",
     "output_type": "stream",
     "text": [
      "messages=[Message(speaker='Alice', text='Hello, how are you?', timestamp='2023-04-05T14:30:00Z'), Message(speaker='Bob', text=\"I'm fine, thank you! And you?\", timestamp='2023-04-05T14:31:00Z')] conversation_annotations=[ConversationAnnotation(label='Greeting', description='This conversation starts with a greeting.', additional_info=None)] message_annotations=[MessageAnnotation(message_index=1, label='Polite Response', description='Bob responds politely.', additional_info=None)] scores=[ConversationScore(metric='coherence', value=1.0, details={'reason': 'The conversation flows naturally.'})] metadata={'topic': 'Casual conversation', 'language': 'English'}\n"
     ]
    }
   ],
   "source": [
    "example_conversation = ConversationData(\n",
    "    messages=[\n",
    "        Message(speaker=\"Alice\", text=\"Hello, how are you?\", timestamp=\"2023-04-05T14:30:00Z\"),\n",
    "        Message(speaker=\"Bob\", text=\"I'm fine, thank you! And you?\", timestamp=\"2023-04-05T14:31:00Z\")\n",
    "    ],\n",
    "    conversation_annotations=[\n",
    "        ConversationAnnotation(label=\"Greeting\", description=\"This conversation starts with a greeting.\"),\n",
    "    ],\n",
    "    message_annotations=[\n",
    "        MessageAnnotation(message_index=1, label=\"Polite Response\", description=\"Bob responds politely.\"),\n",
    "    ],\n",
    "    scores=[\n",
    "        ConversationScore(metric=\"coherence\", value=1.0, details={\"reason\": \"The conversation flows naturally.\"}),\n",
    "    ],\n",
    "    metadata={\"topic\": \"Casual conversation\", \"language\": \"English\"}\n",
    ")\n",
    "\n",
    "print(example_conversation)"
   ]
  }
 ],
 "metadata": {
  "kernelspec": {
   "display_name": "Python 3 (ipykernel)",
   "language": "python",
   "name": "python3"
  },
  "language_info": {
   "codemirror_mode": {
    "name": "ipython",
    "version": 3
   },
   "file_extension": ".py",
   "mimetype": "text/x-python",
   "name": "python",
   "nbconvert_exporter": "python",
   "pygments_lexer": "ipython3",
   "version": "3.11.5"
  }
 },
 "nbformat": 4,
 "nbformat_minor": 5
}
