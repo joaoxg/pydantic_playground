{
 "cells": [
  {
   "cell_type": "markdown",
   "id": "fc428eac-c285-4120-9f04-0db6490573e1",
   "metadata": {},
   "source": [
    "# Test Pydantic"
   ]
  },
  {
   "cell_type": "markdown",
   "id": "70da1e3a-80dd-4081-ba2c-e0ac7182c1d3",
   "metadata": {},
   "source": [
    "In this script we test the usage of the Python library Pydantic in order to model the validation of datasets to be included in our workflows.\n",
    "\n",
    "This script is based on https://towardsai.net/p/machine-learning/data-reliability-101-a-practical-guide-to-data-validation-using-pydantic-in-data-science-projects"
   ]
  },
  {
   "cell_type": "markdown",
   "id": "8e2ea9d4-8ae2-45f1-a1bd-1305b66d1c0b",
   "metadata": {
    "tags": []
   },
   "source": [
    "### 1. Import Python libraries"
   ]
  },
  {
   "cell_type": "code",
   "execution_count": 18,
   "id": "c1941836-b0d6-46b8-a512-970ddbfc05eb",
   "metadata": {},
   "outputs": [],
   "source": [
    "import numpy as np\n",
    "from pydantic import BaseModel, ValidationError, Field\n",
    "from typing import List, Optional\n",
    "import pandas as pd"
   ]
  },
  {
   "cell_type": "markdown",
   "id": "49f5f267-4dc9-4d98-b0d8-e3e603713d7e",
   "metadata": {},
   "source": [
    "### 2. Define Pydantic classes"
   ]
  },
  {
   "cell_type": "markdown",
   "id": "4013fdd6-04ca-487c-8530-4ee3d85657b3",
   "metadata": {},
   "source": [
    "Dictvalidator specifies the data type of each feature in the dataset to be imported and the conditions the features have to fulfill in order not to trigger a validation error."
   ]
  },
  {
   "cell_type": "markdown",
   "id": "8491b71b-56a0-4a34-8d27-daf40ef06801",
   "metadata": {},
   "source": [
    "INPORTANT: conditions inside the class are designed for https://github.com/shivamshinde123/Thyroid_Disease_Detection_Internship/blob/main/Data/Raw_data/ThyroidRawData.csv. If you intend to test Pydantic on your own dataset you will need to edit the conditions inside the class in order to match your own set of features."
   ]
  },
  {
   "cell_type": "code",
   "execution_count": 19,
   "id": "3aaecfac-5122-41cd-8044-8a142f08e0fb",
   "metadata": {
    "tags": []
   },
   "outputs": [],
   "source": [
    "class Dictvalidator(BaseModel):\n",
    "    \n",
    "    age: int = Field(gt=0, le=100)\n",
    "    sex: Optional[str]\n",
    "    on_thyroxine: Optional[str]\n",
    "    query_on_thyroxine: Optional[str]\n",
    "    on_antithyroid_meds: Optional[str]\n",
    "    sick: Optional[str]\n",
    "    pregnant: Optional[str]\n",
    "    thyroid_surgery: Optional[str]\n",
    "    I131_treatment: Optional[str]\n",
    "    query_hypothyroid: Optional[str]\n",
    "    query_hyperthyroid: Optional[str]\n",
    "    lithium: Optional[str]\n",
    "    goitre: Optional[str]\n",
    "    tumor: Optional[str]\n",
    "    hypopituitary: Optional[str]\n",
    "    psych: Optional[str]\n",
    "    TSH_measured: str\n",
    "    TSH: Optional[float]\n",
    "    T3_measured: str\n",
    "    T3: Optional[float]\n",
    "    TT4_measured: str\n",
    "    TT4: Optional[float]\n",
    "    T4U_measured: str\n",
    "    T4U: Optional[float]\n",
    "    FTI_measured: str\n",
    "    FTI: Optional[float]\n",
    "    TBG_measured: str\n",
    "    TBG: Optional[float]\n",
    "    referral_source: Optional[str]\n",
    "    target: str\n",
    "    patient_id: int"
   ]
  },
  {
   "cell_type": "markdown",
   "id": "39ffc5ab-c2d0-4e18-be54-cfd0306a3c54",
   "metadata": {},
   "source": [
    "dataframe_validator guarantees that the imported pandas dataframe is modeled according to the conditions specified in Dictvalidator"
   ]
  },
  {
   "cell_type": "code",
   "execution_count": 8,
   "id": "000b287e-4fb5-45b5-9f8f-71fdfe012126",
   "metadata": {
    "tags": []
   },
   "outputs": [],
   "source": [
    "class dataframe_validator(BaseModel):\n",
    "    \n",
    "    df_dict: List[Dictvalidator]"
   ]
  },
  {
   "cell_type": "markdown",
   "id": "9214380b-ab26-436a-9079-243dde042657",
   "metadata": {
    "tags": []
   },
   "source": [
    "### 3. Locate dataset to be modeled"
   ]
  },
  {
   "cell_type": "code",
   "execution_count": null,
   "id": "2ea3ba19-3c58-4b2d-8ce1-fbd2d4fc4a7f",
   "metadata": {
    "tags": []
   },
   "outputs": [],
   "source": [
    "raw_data_file_path = input(\"Type the filepath to your dataset (including filename and extension):\")\n",
    "\n",
    "print(\"\\nYou are about to model the following dataset:\", raw_data_file_path)\n"
   ]
  },
  {
   "cell_type": "markdown",
   "id": "5ade9a54-c6ab-4504-a836-9e02938c2c27",
   "metadata": {
    "tags": []
   },
   "source": [
    "### 4. Run pydantic modeling"
   ]
  },
  {
   "cell_type": "code",
   "execution_count": 17,
   "id": "3f96185e-c4ae-4bd5-879f-7d2b89a85db9",
   "metadata": {
    "tags": []
   },
   "outputs": [],
   "source": [
    "if __name__ =='__main__':\n",
    "    \n",
    "    # read dataframe    \n",
    "    df = pd.read_csv(raw_data_file_path)\n",
    "    \n",
    "    # convert NaNs to None\n",
    "    df = df.replace({np.nan:None})\n",
    "    \n",
    "    # remove individuals with incorrect ages\n",
    "    df = df[df['age'] <= 100]    \n",
    "    \n",
    "    # validade dataframe\n",
    "    try:\n",
    "        dataframe_validator(df_dict = df.to_dict(orient = 'records'))\n",
    "    except ValidationError as e:\n",
    "        raise e\n",
    "    "
   ]
  }
 ],
 "metadata": {
  "kernelspec": {
   "display_name": "Python 3 (ipykernel)",
   "language": "python",
   "name": "python3"
  },
  "language_info": {
   "codemirror_mode": {
    "name": "ipython",
    "version": 3
   },
   "file_extension": ".py",
   "mimetype": "text/x-python",
   "name": "python",
   "nbconvert_exporter": "python",
   "pygments_lexer": "ipython3",
   "version": "3.11.5"
  }
 },
 "nbformat": 4,
 "nbformat_minor": 5
}
